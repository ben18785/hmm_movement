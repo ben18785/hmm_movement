{
 "cells": [
  {
   "cell_type": "code",
   "execution_count": 1,
   "id": "40c29794",
   "metadata": {},
   "outputs": [
    {
     "name": "stderr",
     "output_type": "stream",
     "text": [
      "/Users/bcl206/opt/anaconda3/lib/python3.9/site-packages/bayesian_hmm/__init__.py:13: UserWarning: bayesian_hmm is in beta testing and future versions may behave differently\n",
      "  warnings.warn(\n"
     ]
    }
   ],
   "source": [
    "import bayesian_hmm"
   ]
  },
  {
   "cell_type": "code",
   "execution_count": 2,
   "id": "2f0436d6",
   "metadata": {},
   "outputs": [],
   "source": [
    "?bayesian_hmm.HDPHMM"
   ]
  },
  {
   "cell_type": "code",
   "execution_count": null,
   "id": "ea7f35ba",
   "metadata": {},
   "outputs": [],
   "source": []
  }
 ],
 "metadata": {
  "kernelspec": {
   "display_name": "Python 3 (ipykernel)",
   "language": "python",
   "name": "python3"
  },
  "language_info": {
   "codemirror_mode": {
    "name": "ipython",
    "version": 3
   },
   "file_extension": ".py",
   "mimetype": "text/x-python",
   "name": "python",
   "nbconvert_exporter": "python",
   "pygments_lexer": "ipython3",
   "version": "3.9.7"
  }
 },
 "nbformat": 4,
 "nbformat_minor": 5
}
